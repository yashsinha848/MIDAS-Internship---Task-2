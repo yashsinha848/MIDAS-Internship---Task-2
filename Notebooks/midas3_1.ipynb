{
  "nbformat": 4,
  "nbformat_minor": 0,
  "metadata": {
    "colab": {
      "name": "midas3-1.ipynb",
      "provenance": []
    },
    "kernelspec": {
      "name": "python3",
      "display_name": "Python 3"
    },
    "language_info": {
      "name": "python"
    },
    "accelerator": "GPU"
  },
  "cells": [
    {
      "cell_type": "code",
      "metadata": {
        "colab": {
          "base_uri": "https://localhost:8080/"
        },
        "id": "lFMYJY0dVApm",
        "outputId": "2963768d-f0d2-414a-dad6-b1603a94f47d"
      },
      "source": [
        "from google.colab import drive\n",
        "drive.mount('/content/drive')"
      ],
      "execution_count": 1,
      "outputs": [
        {
          "output_type": "stream",
          "text": [
            "Mounted at /content/drive\n"
          ],
          "name": "stdout"
        }
      ]
    },
    {
      "cell_type": "markdown",
      "metadata": {
        "id": "03WqreXAHYn5"
      },
      "source": [
        "Loading all the libraries"
      ]
    },
    {
      "cell_type": "code",
      "metadata": {
        "id": "eCJpQkeQUiNS"
      },
      "source": [
        "from __future__ import print_function\n",
        "import tensorflow as tf\n",
        "from tensorflow.keras.preprocessing.image import ImageDataGenerator\n",
        "from tensorflow.keras.models import Sequential\n",
        "from tensorflow.keras.layers import Dense,Dropout,Activation,Flatten,BatchNormalization\n",
        "from tensorflow.keras.layers import Conv2D,MaxPooling2D\n",
        "#from IPython.display import display\n",
        "from PIL import Image\n",
        "from sklearn.preprocessing import LabelEncoder\n",
        "import os\n",
        "import numpy as np\n",
        "from tensorflow.keras.callbacks import ModelCheckpoint, EarlyStopping, ReduceLROnPlateau\n",
        "import tensorflow as tf\n",
        "from tensorflow import keras\n",
        "from tensorflow.keras.models import load_model\n",
        "from tensorflow import keras\n",
        "from tensorflow.keras import layers\n",
        "from keras.datasets import mnist\n",
        "from keras.models import Sequential\n",
        "from keras.layers import Dense, Dropout, Conv2D, MaxPool2D, Flatten\n",
        "from keras.utils import np_utils\n",
        "\n",
        "# to calculate accuracy\n",
        "from sklearn.metrics import accuracy_score"
      ],
      "execution_count": 7,
      "outputs": []
    },
    {
      "cell_type": "markdown",
      "metadata": {
        "id": "Dy4y28D6HaFJ"
      },
      "source": [
        "Loading the pretrained model "
      ]
    },
    {
      "cell_type": "code",
      "metadata": {
        "colab": {
          "base_uri": "https://localhost:8080/"
        },
        "id": "ArVAZlNjU28b",
        "outputId": "5d606c9c-0a8e-414c-b34f-b749416c277c"
      },
      "source": [
        "pre_trained_model =load_model('/content/drive/My Drive/small_train/checkpoint_accuracy281.hdf5')\n",
        "pre_trained_model.trainable = False\n",
        "#print(pre_trained_model.summary())\n",
        "last_layer = pre_trained_model.get_layer('activation_11')\n",
        "print('last layer output shape: ', last_layer.output_shape)\n",
        "last_output = last_layer.output"
      ],
      "execution_count": 4,
      "outputs": [
        {
          "output_type": "stream",
          "text": [
            "last layer output shape:  (None, 128)\n"
          ],
          "name": "stdout"
        }
      ]
    },
    {
      "cell_type": "markdown",
      "metadata": {
        "id": "4a7FYkDGIQF-"
      },
      "source": [
        "Creating the transfer learning model"
      ]
    },
    {
      "cell_type": "code",
      "metadata": {
        "colab": {
          "base_uri": "https://localhost:8080/"
        },
        "id": "G2dbwFKKVZmP",
        "outputId": "9b4247ca-83cb-4d1e-a8f9-ea44dc610509"
      },
      "source": [
        "from tensorflow.keras.optimizers import RMSprop\n",
        "from tensorflow.keras import Model\n",
        "# Flatten the output layer to 1 dimension\n",
        "x = layers.Flatten()(last_output)\n",
        "# # Add a fully connected layer with 1,024 hidden units and ReLU activation\n",
        "x = layers.Dense(1024, activation='relu')(x)\n",
        "# # Add a final sigmoid layer for classification\n",
        "x = layers.Dense(10, activation='softmax')(x)\n",
        "#\n",
        "model = Model(pre_trained_model.input, x)\n",
        "print(model.input_shape)"
      ],
      "execution_count": 5,
      "outputs": [
        {
          "output_type": "stream",
          "text": [
            "(None, 28, 28, 1)\n"
          ],
          "name": "stdout"
        }
      ]
    },
    {
      "cell_type": "markdown",
      "metadata": {
        "id": "MUZ7Ra1CIolY"
      },
      "source": [
        "Model is compiled. Training generator is defined from the mnistTask dataset. Checkpointer is created using accuracy as monitor."
      ]
    },
    {
      "cell_type": "code",
      "metadata": {
        "colab": {
          "base_uri": "https://localhost:8080/"
        },
        "id": "a5xlPGm5VjS6",
        "outputId": "1292ba4a-d940-477c-f831-f047298902b9"
      },
      "source": [
        "#Model is compiled\n",
        "model.compile(optimizer = RMSprop(lr=0.0001),      \n",
        "               loss = 'categorical_crossentropy',\n",
        "               metrics = ['accuracy'])\n",
        "\n",
        "#Used to generate more images from training data\n",
        "train_datagen = ImageDataGenerator(rescale = 1./255.,\n",
        "                                   rotation_range = 40,\n",
        "                                   width_shift_range = 0.2,\n",
        "                                   height_shift_range = 0.2,\n",
        "                                   shear_range = 0.2,\n",
        "                                   zoom_range = 0.2,\n",
        "                                   horizontal_flip = True)\n",
        "train_dir=\"/content/drive/My Drive/mnistTask\"\n",
        "#Loading and Preprocessing the training images \n",
        "train_generator = train_datagen.flow_from_directory(train_dir,\n",
        "                                                    batch_size = 20,\n",
        "                                                    color_mode='grayscale',\n",
        "                                                    class_mode = 'categorical',\n",
        "                                                    target_size = (28,28))\n",
        "\n",
        "#Checkpointer is created \n",
        "checkpointer = keras.callbacks.ModelCheckpoint(filepath = '/content/drive/My Drive/mnistTaskcheckpoint_accuracy.hdf5',\n",
        "                                               monitor='accuracy',\n",
        "                                               mode='min',\n",
        "                                               save_best_only=False,\n",
        "                                               verbose=1)"
      ],
      "execution_count": 6,
      "outputs": [
        {
          "output_type": "stream",
          "text": [
            "Found 60000 images belonging to 10 classes.\n"
          ],
          "name": "stdout"
        }
      ]
    },
    {
      "cell_type": "markdown",
      "metadata": {
        "id": "KzideWYeLwX9"
      },
      "source": [
        "Model is fit on the training data"
      ]
    },
    {
      "cell_type": "code",
      "metadata": {
        "colab": {
          "base_uri": "https://localhost:8080/"
        },
        "id": "CmMO5L54WQ__",
        "outputId": "2f235577-64db-4fa3-b048-db0422f52e43"
      },
      "source": [
        "epochs=20\n",
        "history=model.fit(                                   #Model is fitted on the training data\n",
        "                train_generator,\n",
        "                steps_per_epoch=20,\n",
        "                epochs=epochs,\n",
        "                callbacks = [checkpointer])"
      ],
      "execution_count": 11,
      "outputs": [
        {
          "output_type": "stream",
          "text": [
            "Epoch 1/20\n",
            "20/20 [==============================] - 254s 11s/step - loss: 113.2408 - accuracy: 0.0968\n",
            "\n",
            "Epoch 00001: saving model to /content/drive/My Drive/mnistTaskcheckpoint_accuracy.hdf5\n",
            "Epoch 2/20\n",
            "20/20 [==============================] - 226s 11s/step - loss: 26.6563 - accuracy: 0.1174\n",
            "\n",
            "Epoch 00002: saving model to /content/drive/My Drive/mnistTaskcheckpoint_accuracy.hdf5\n",
            "Epoch 3/20\n",
            "20/20 [==============================] - 231s 12s/step - loss: 28.0292 - accuracy: 0.1079\n",
            "\n",
            "Epoch 00003: saving model to /content/drive/My Drive/mnistTaskcheckpoint_accuracy.hdf5\n",
            "Epoch 4/20\n",
            "20/20 [==============================] - 220s 11s/step - loss: 26.5523 - accuracy: 0.1003\n",
            "\n",
            "Epoch 00004: saving model to /content/drive/My Drive/mnistTaskcheckpoint_accuracy.hdf5\n",
            "Epoch 5/20\n",
            "20/20 [==============================] - 215s 11s/step - loss: 32.0212 - accuracy: 0.0818\n",
            "\n",
            "Epoch 00005: saving model to /content/drive/My Drive/mnistTaskcheckpoint_accuracy.hdf5\n",
            "Epoch 6/20\n",
            "20/20 [==============================] - 216s 11s/step - loss: 28.8341 - accuracy: 0.0829\n",
            "\n",
            "Epoch 00006: saving model to /content/drive/My Drive/mnistTaskcheckpoint_accuracy.hdf5\n",
            "Epoch 7/20\n",
            "20/20 [==============================] - 211s 11s/step - loss: 30.0886 - accuracy: 0.0930\n",
            "\n",
            "Epoch 00007: saving model to /content/drive/My Drive/mnistTaskcheckpoint_accuracy.hdf5\n",
            "Epoch 8/20\n",
            "20/20 [==============================] - 199s 10s/step - loss: 27.0340 - accuracy: 0.0901\n",
            "\n",
            "Epoch 00008: saving model to /content/drive/My Drive/mnistTaskcheckpoint_accuracy.hdf5\n",
            "Epoch 9/20\n",
            "20/20 [==============================] - 193s 10s/step - loss: 27.5152 - accuracy: 0.1378\n",
            "\n",
            "Epoch 00009: saving model to /content/drive/My Drive/mnistTaskcheckpoint_accuracy.hdf5\n",
            "Epoch 10/20\n",
            "20/20 [==============================] - 199s 10s/step - loss: 27.5937 - accuracy: 0.0828\n",
            "\n",
            "Epoch 00010: saving model to /content/drive/My Drive/mnistTaskcheckpoint_accuracy.hdf5\n",
            "Epoch 11/20\n",
            "20/20 [==============================] - 200s 10s/step - loss: 26.1953 - accuracy: 0.1041\n",
            "\n",
            "Epoch 00011: saving model to /content/drive/My Drive/mnistTaskcheckpoint_accuracy.hdf5\n",
            "Epoch 12/20\n",
            "20/20 [==============================] - 192s 10s/step - loss: 27.1993 - accuracy: 0.1003\n",
            "\n",
            "Epoch 00012: saving model to /content/drive/My Drive/mnistTaskcheckpoint_accuracy.hdf5\n",
            "Epoch 13/20\n",
            "20/20 [==============================] - 187s 9s/step - loss: 26.2078 - accuracy: 0.0960\n",
            "\n",
            "Epoch 00013: saving model to /content/drive/My Drive/mnistTaskcheckpoint_accuracy.hdf5\n",
            "Epoch 14/20\n",
            "20/20 [==============================] - 190s 9s/step - loss: 29.2008 - accuracy: 0.1310\n",
            "\n",
            "Epoch 00014: saving model to /content/drive/My Drive/mnistTaskcheckpoint_accuracy.hdf5\n",
            "Epoch 15/20\n",
            "20/20 [==============================] - 186s 9s/step - loss: 29.5717 - accuracy: 0.0675\n",
            "\n",
            "Epoch 00015: saving model to /content/drive/My Drive/mnistTaskcheckpoint_accuracy.hdf5\n",
            "Epoch 16/20\n",
            "20/20 [==============================] - 190s 9s/step - loss: 27.8670 - accuracy: 0.1013\n",
            "\n",
            "Epoch 00016: saving model to /content/drive/My Drive/mnistTaskcheckpoint_accuracy.hdf5\n",
            "Epoch 17/20\n",
            "20/20 [==============================] - 188s 9s/step - loss: 24.4351 - accuracy: 0.1054\n",
            "\n",
            "Epoch 00017: saving model to /content/drive/My Drive/mnistTaskcheckpoint_accuracy.hdf5\n",
            "Epoch 18/20\n",
            "20/20 [==============================] - 185s 9s/step - loss: 24.5695 - accuracy: 0.1103\n",
            "\n",
            "Epoch 00018: saving model to /content/drive/My Drive/mnistTaskcheckpoint_accuracy.hdf5\n",
            "Epoch 19/20\n",
            "20/20 [==============================] - 181s 9s/step - loss: 25.6612 - accuracy: 0.1144\n",
            "\n",
            "Epoch 00019: saving model to /content/drive/My Drive/mnistTaskcheckpoint_accuracy.hdf5\n",
            "Epoch 20/20\n",
            "20/20 [==============================] - 184s 9s/step - loss: 26.9694 - accuracy: 0.1263\n",
            "\n",
            "Epoch 00020: saving model to /content/drive/My Drive/mnistTaskcheckpoint_accuracy.hdf5\n"
          ],
          "name": "stdout"
        }
      ]
    },
    {
      "cell_type": "markdown",
      "metadata": {
        "id": "aCFJYH_IL0_W"
      },
      "source": [
        "Accuracy after 20 epochs=0.1263"
      ]
    },
    {
      "cell_type": "markdown",
      "metadata": {
        "id": "ePeJGzjtAoaB"
      },
      "source": [
        "# **Testing the model on mnist test set**"
      ]
    },
    {
      "cell_type": "markdown",
      "metadata": {
        "id": "6d-5UhHuA0rO"
      },
      "source": [
        "Loading the libraries"
      ]
    },
    {
      "cell_type": "code",
      "metadata": {
        "id": "C67Fo5UvBCKR"
      },
      "source": [
        "from __future__ import print_function\n",
        "import keras\n",
        "from keras.datasets import mnist\n",
        "from keras.models import Sequential\n",
        "from keras.layers import Dense, Dropout, Flatten, Conv2D, MaxPooling2D\n",
        "from keras import backend as k\n",
        "import matplotlib.pyplot as plt\n",
        "import numpy as np"
      ],
      "execution_count": null,
      "outputs": []
    },
    {
      "cell_type": "markdown",
      "metadata": {
        "id": "j3SD5t13BFDl"
      },
      "source": [
        "Loading the model which uses the pretrained model"
      ]
    },
    {
      "cell_type": "code",
      "metadata": {
        "id": "MFC4OtUd9sR_"
      },
      "source": [
        "trained_model =load_model('/content/drive/My Drive/mnistTaskcheckpoint_accuracy.hdf5')"
      ],
      "execution_count": 3,
      "outputs": []
    },
    {
      "cell_type": "markdown",
      "metadata": {
        "id": "IdP80tBqA6EG"
      },
      "source": [
        "Loading the mnist dataset and preprocessing it"
      ]
    },
    {
      "cell_type": "code",
      "metadata": {
        "colab": {
          "base_uri": "https://localhost:8080/"
        },
        "id": "IlUZdgEk91Sy",
        "outputId": "70b3e52c-9318-4e2f-f183-e670f12b2165"
      },
      "source": [
        "# loading the dataset\n",
        "(X_train, y_train), (X_test, y_test) = mnist.load_data()\n",
        "\n",
        "# building the input vector from the 28x28 pixels\n",
        "X_train = X_train.reshape(X_train.shape[0], 28, 28, 1)\n",
        "X_test = X_test.reshape(X_test.shape[0], 28, 28, 1)\n",
        "X_train = X_train.astype('float32')\n",
        "X_test = X_test.astype('float32')\n",
        "\n",
        "# normalizing the data to help with the training\n",
        "X_train /= 255\n",
        "X_test /= 255\n",
        "\n",
        "# one-hot encoding using keras' numpy-related utilities\n",
        "n_classes = 10\n",
        "print(\"Shape before one-hot encoding: \", y_train.shape)\n",
        "Y_train = np_utils.to_categorical(y_train, n_classes)\n",
        "Y_test = np_utils.to_categorical(y_test, n_classes)\n",
        "print(\"Shape after one-hot encoding: \", Y_train.shape)"
      ],
      "execution_count": 8,
      "outputs": [
        {
          "output_type": "stream",
          "text": [
            "Downloading data from https://storage.googleapis.com/tensorflow/tf-keras-datasets/mnist.npz\n",
            "11493376/11490434 [==============================] - 0s 0us/step\n",
            "Shape before one-hot encoding:  (60000,)\n",
            "Shape after one-hot encoding:  (60000, 10)\n"
          ],
          "name": "stdout"
        }
      ]
    },
    {
      "cell_type": "code",
      "metadata": {
        "colab": {
          "base_uri": "https://localhost:8080/",
          "height": 551
        },
        "id": "cjc8Nc3g_QH7",
        "outputId": "6018147a-b4b4-4771-f635-4b6da724698b"
      },
      "source": [
        "#visualising first 9 data from training dataset\n",
        "fig = plt.figure()\n",
        "for i in range(9):\n",
        "  plt.subplot(3,3,i+1)\n",
        "  plt.tight_layout()\n",
        "  plt.imshow(X_train[i], cmap='gray', interpolation='none')\n",
        "  plt.title(\"Digit: {}\".format(y_train[i]))\n",
        "  plt.xticks([])\n",
        "  plt.yticks([])\n",
        "fig"
      ],
      "execution_count": 16,
      "outputs": [
        {
          "output_type": "execute_result",
          "data": {
            "image/png": "[encoded data removed]",
            "text/plain": [
              "<Figure size 432x288 with 9 Axes>"
            ]
          },
          "metadata": {
            "tags": []
          },
          "execution_count": 16
        },
        {
          "output_type": "display_data",
          "data": {
            "image/png": "[encoded data removed]",
            "text/plain": [
              "<Figure size 432x288 with 9 Axes>"
            ]
          },
          "metadata": {
            "tags": []
          }
        }
      ]
    },
    {
      "cell_type": "markdown",
      "metadata": {
        "id": "79uxtZMUBQGE"
      },
      "source": [
        "Printing the shape of data"
      ]
    },
    {
      "cell_type": "code",
      "metadata": {
        "colab": {
          "base_uri": "https://localhost:8080/"
        },
        "id": "WqNWP2i2ABki",
        "outputId": "7b887adb-3dff-4867-f346-7122ac7193bc"
      },
      "source": [
        "# printing the actual data shape before we reshape and normalize\n",
        "print(\"X_train shape\", X_train.shape)\n",
        "print(\"y_train shape\", y_train.shape)\n",
        "print(\"X_test shape\", X_test.shape)\n",
        "print(\"y_test shape\", y_test.shape)"
      ],
      "execution_count": 17,
      "outputs": [
        {
          "output_type": "stream",
          "text": [
            "X_train shape (60000, 28, 28)\n",
            "y_train shape (60000,)\n",
            "X_test shape (10000, 28, 28)\n",
            "y_test shape (10000,)\n"
          ],
          "name": "stdout"
        }
      ]
    },
    {
      "cell_type": "code",
      "metadata": {
        "id": "wO2HU2ObAEhK"
      },
      "source": [
        "#input image size 28*28\n",
        "img_rows , img_cols = 28, 28"
      ],
      "execution_count": 18,
      "outputs": []
    },
    {
      "cell_type": "markdown",
      "metadata": {
        "id": "F08oVXbnBU9C"
      },
      "source": [
        "Reshaping the data so that it can be used with the model"
      ]
    },
    {
      "cell_type": "code",
      "metadata": {
        "colab": {
          "base_uri": "https://localhost:8080/"
        },
        "id": "o-bb5VUpAGzy",
        "outputId": "78fd9e11-cabe-4e22-d759-b5b67419761e"
      },
      "source": [
        "#reshaping\n",
        "#this assumes our data format\n",
        "#For 3D data, \"channels_last\" assumes (conv_dim1, conv_dim2, conv_dim3, channels) while \n",
        "#\"channels_first\" assumes (channels, conv_dim1, conv_dim2, conv_dim3).\n",
        "if k.image_data_format() == 'channels_first':\n",
        "    X_train = X_train.reshape(X_train.shape[0], 1, img_rows, img_cols)\n",
        "    X_test = X_test.reshape(X_test.shape[0], 1, img_rows, img_cols)\n",
        "    input_shape = (1, img_rows, img_cols)\n",
        "else:\n",
        "    X_train = X_train.reshape(X_train.shape[0], img_rows, img_cols, 1)\n",
        "    X_test = X_test.reshape(X_test.shape[0], img_rows, img_cols, 1)\n",
        "    input_shape = (img_rows, img_cols, 1)\n",
        "#more reshaping\n",
        "X_train = X_train.astype('float32')\n",
        "X_test = X_test.astype('float32')\n",
        "X_train /= 255\n",
        "X_test /= 255\n",
        "print('X_train shape:', X_train.shape)\n",
        "print(X_train.shape[0], 'train samples')\n",
        "print(X_test.shape[0], 'test samples')"
      ],
      "execution_count": 19,
      "outputs": [
        {
          "output_type": "stream",
          "text": [
            "X_train shape: (60000, 28, 28, 1)\n",
            "60000 train samples\n",
            "10000 test samples\n"
          ],
          "name": "stdout"
        }
      ]
    },
    {
      "cell_type": "code",
      "metadata": {
        "id": "XQtbOXzDAL4J"
      },
      "source": [
        "num_category = 10"
      ],
      "execution_count": 20,
      "outputs": []
    },
    {
      "cell_type": "code",
      "metadata": {
        "colab": {
          "base_uri": "https://localhost:8080/"
        },
        "id": "Hm8A2LojAODC",
        "outputId": "4b69d4a9-b6e8-4b5c-f336-64635e448bc4"
      },
      "source": [
        "y_train = keras.utils.to_categorical(y_train, num_category)\n",
        "y_test = keras.utils.to_categorical(y_test, num_category)\n",
        "y_train[0]"
      ],
      "execution_count": 21,
      "outputs": [
        {
          "output_type": "execute_result",
          "data": {
            "text/plain": [
              "array([0., 0., 0., 0., 0., 1., 0., 0., 0., 0.], dtype=float32)"
            ]
          },
          "metadata": {
            "tags": []
          },
          "execution_count": 21
        }
      ]
    },
    {
      "cell_type": "markdown",
      "metadata": {
        "id": "DjROoiPRBbvH"
      },
      "source": [
        "Evaluating the accuracy on test set"
      ]
    },
    {
      "cell_type": "code",
      "metadata": {
        "colab": {
          "base_uri": "https://localhost:8080/"
        },
        "id": "jlMSwngP-pWF",
        "outputId": "5c1d4060-2733-46ef-bdca-1087ec2289bd"
      },
      "source": [
        "score = trained_model.evaluate(X_test, y_test, verbose=0)\n",
        "print('Test loss:', score[0]) #Test loss: 19.548660278320312\n",
        "print('Test accuracy:', score[1]) #Test accuracy: 0.14259999990463257"
      ],
      "execution_count": 22,
      "outputs": [
        {
          "output_type": "stream",
          "text": [
            "Test loss: 19.548660278320312\n",
            "Test accuracy: 0.14259999990463257\n"
          ],
          "name": "stdout"
        }
      ]
    }
  ]
}