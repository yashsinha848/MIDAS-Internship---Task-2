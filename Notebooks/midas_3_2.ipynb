{
  "nbformat": 4,
  "nbformat_minor": 0,
  "metadata": {
    "colab": {
      "name": "midas-3-2.ipynb",
      "provenance": []
    },
    "kernelspec": {
      "name": "python3",
      "display_name": "Python 3"
    },
    "language_info": {
      "name": "python"
    },
    "accelerator": "GPU"
  },
  "cells": [
    {
      "cell_type": "code",
      "metadata": {
        "colab": {
          "base_uri": "https://localhost:8080/"
        },
        "id": "cYaBip6zhHRP",
        "outputId": "325bda29-39e3-47aa-c2f9-c19ac5584930"
      },
      "source": [
        "from google.colab import drive\n",
        "drive.mount('/content/drive')"
      ],
      "execution_count": 10,
      "outputs": [
        {
          "output_type": "stream",
          "text": [
            "Drive already mounted at /content/drive; to attempt to forcibly remount, call drive.mount(\"/content/drive\", force_remount=True).\n"
          ],
          "name": "stdout"
        }
      ]
    },
    {
      "cell_type": "markdown",
      "metadata": {
        "id": "zKgn-MxeMZej"
      },
      "source": [
        "Loading all the libraries"
      ]
    },
    {
      "cell_type": "code",
      "metadata": {
        "id": "K1xniOPrhXKP"
      },
      "source": [
        "# keras imports for the dataset and building our neural network\n",
        "from keras.datasets import mnist\n",
        "from keras.models import Sequential\n",
        "from keras.layers import Dense, Dropout, Conv2D, MaxPool2D, Flatten\n",
        "from keras.utils import np_utils\n",
        "from tensorflow.keras.optimizers import RMSprop\n",
        "from tensorflow.keras import Model\n",
        "# to calculate accuracy\n",
        "from sklearn.metrics import accuracy_score\n",
        "from __future__ import print_function\n",
        "import tensorflow as tf\n",
        "from tensorflow.keras.preprocessing.image import ImageDataGenerator\n",
        "from tensorflow.keras.models import Sequential\n",
        "from tensorflow.keras.layers import Dense,Dropout,Activation,Flatten,BatchNormalization\n",
        "from tensorflow.keras.layers import Conv2D,MaxPooling2D\n",
        "#from IPython.display import display\n",
        "from PIL import Image\n",
        "from sklearn.preprocessing import LabelEncoder\n",
        "import os\n",
        "import numpy as np\n",
        "from tensorflow.keras.callbacks import ModelCheckpoint, EarlyStopping, ReduceLROnPlateau\n",
        "import tensorflow as tf\n",
        "from tensorflow import keras\n",
        "from tensorflow.keras.models import load_model\n",
        "from tensorflow import keras\n",
        "from tensorflow.keras import layers"
      ],
      "execution_count": 11,
      "outputs": []
    },
    {
      "cell_type": "markdown",
      "metadata": {
        "id": "iUX3l-LpNArb"
      },
      "source": [
        "Defining the model"
      ]
    },
    {
      "cell_type": "code",
      "metadata": {
        "id": "NjnFs_gYhdaQ"
      },
      "source": [
        "model = Sequential()\n",
        "# convolutional layer\n",
        "model.add(Conv2D(25, kernel_size=(3,3), strides=(1,1), padding='valid', activation='relu', input_shape=(28,28,1)))\n",
        "model.add(MaxPool2D(pool_size=(1,1)))\n",
        "# flatten output of conv\n",
        "model.add(Flatten())\n",
        "# hidden layer\n",
        "model.add(Dense(100, activation='relu'))\n",
        "# output layer\n",
        "model.add(Dense(10, activation='softmax'))"
      ],
      "execution_count": 6,
      "outputs": []
    },
    {
      "cell_type": "markdown",
      "metadata": {
        "id": "-TKFCfRRNDLJ"
      },
      "source": [
        "Compiling the model and creating the data generator for training data.\n",
        "Checkpointer is created using Accuracy as the monitor."
      ]
    },
    {
      "cell_type": "code",
      "metadata": {
        "colab": {
          "base_uri": "https://localhost:8080/"
        },
        "id": "Rnyu47dAhvAp",
        "outputId": "a1b4b34f-1d2a-49be-d394-925c639b4850"
      },
      "source": [
        "#Model is compiled\n",
        "model.compile(optimizer = RMSprop(lr=0.0001),\n",
        "               loss = 'categorical_crossentropy',\n",
        "               metrics = ['accuracy'])\n",
        "\n",
        "#Used to generate more images from training data\n",
        "train_datagen = ImageDataGenerator(rescale = 1./255.,\n",
        "                                   rotation_range = 40,\n",
        "                                   width_shift_range = 0.2,\n",
        "                                   height_shift_range = 0.2,\n",
        "                                   shear_range = 0.2,\n",
        "                                   zoom_range = 0.2,\n",
        "                                   horizontal_flip = True)\n",
        "train_dir=\"/content/drive/My Drive/mnistTask\"\n",
        "\n",
        "#Loading and Preprocessing the training images\n",
        "train_generator = train_datagen.flow_from_directory(train_dir,\n",
        "                                                    batch_size = 20,\n",
        "                                                    color_mode='grayscale',\n",
        "                                                    class_mode = 'categorical',\n",
        "                                                    target_size = (28,28))\n",
        "\n",
        "#Checkpointer is created \n",
        "checkpointer = keras.callbacks.ModelCheckpoint(filepath = '/content/drive/My Drive/mnistTask/checkpoint-random-initialisation.hdf5',\n",
        "                                               monitor='accuracy',\n",
        "                                               mode='min',\n",
        "                                               save_best_only=False,\n",
        "                                               verbose=1)"
      ],
      "execution_count": 7,
      "outputs": [
        {
          "output_type": "stream",
          "text": [
            "Found 60000 images belonging to 10 classes.\n"
          ],
          "name": "stdout"
        }
      ]
    },
    {
      "cell_type": "code",
      "metadata": {
        "colab": {
          "base_uri": "https://localhost:8080/"
        },
        "id": "4tUh0eXrh_y9",
        "outputId": "dea0a496-6704-437a-88b3-b446f5ded5e6"
      },
      "source": [
        "epochs=20\n",
        "history=model.fit(                                   #Model is fitted on the training data\n",
        "                train_generator,\n",
        "                steps_per_epoch=20,\n",
        "                epochs=epochs,\n",
        "                callbacks = [checkpointer])"
      ],
      "execution_count": 8,
      "outputs": [
        {
          "output_type": "stream",
          "text": [
            "Epoch 1/20\n",
            "20/20 [==============================] - 175s 7s/step - loss: 2.2891 - accuracy: 0.1165\n",
            "\n",
            "Epoch 00001: saving model to /content/drive/My Drive/mnistTask/checkpoint-random-initialisation.hdf5\n",
            "Epoch 2/20\n",
            "20/20 [==============================] - 155s 8s/step - loss: 2.2981 - accuracy: 0.1048\n",
            "\n",
            "Epoch 00002: saving model to /content/drive/My Drive/mnistTask/checkpoint-random-initialisation.hdf5\n",
            "Epoch 3/20\n",
            "20/20 [==============================] - 152s 8s/step - loss: 2.3047 - accuracy: 0.0996\n",
            "\n",
            "Epoch 00003: saving model to /content/drive/My Drive/mnistTask/checkpoint-random-initialisation.hdf5\n",
            "Epoch 4/20\n",
            "20/20 [==============================] - 149s 7s/step - loss: 2.3005 - accuracy: 0.0977\n",
            "\n",
            "Epoch 00004: saving model to /content/drive/My Drive/mnistTask/checkpoint-random-initialisation.hdf5\n",
            "Epoch 5/20\n",
            "20/20 [==============================] - 151s 8s/step - loss: 2.3121 - accuracy: 0.0963\n",
            "\n",
            "Epoch 00005: saving model to /content/drive/My Drive/mnistTask/checkpoint-random-initialisation.hdf5\n",
            "Epoch 6/20\n",
            "20/20 [==============================] - 149s 7s/step - loss: 2.3140 - accuracy: 0.1271\n",
            "\n",
            "Epoch 00006: saving model to /content/drive/My Drive/mnistTask/checkpoint-random-initialisation.hdf5\n",
            "Epoch 7/20\n",
            "20/20 [==============================] - 149s 7s/step - loss: 2.3014 - accuracy: 0.0904\n",
            "\n",
            "Epoch 00007: saving model to /content/drive/My Drive/mnistTask/checkpoint-random-initialisation.hdf5\n",
            "Epoch 8/20\n",
            "20/20 [==============================] - 146s 7s/step - loss: 2.3128 - accuracy: 0.0773\n",
            "\n",
            "Epoch 00008: saving model to /content/drive/My Drive/mnistTask/checkpoint-random-initialisation.hdf5\n",
            "Epoch 9/20\n",
            "20/20 [==============================] - 149s 7s/step - loss: 2.3007 - accuracy: 0.1063\n",
            "\n",
            "Epoch 00009: saving model to /content/drive/My Drive/mnistTask/checkpoint-random-initialisation.hdf5\n",
            "Epoch 10/20\n",
            "20/20 [==============================] - 145s 7s/step - loss: 2.3082 - accuracy: 0.1184\n",
            "\n",
            "Epoch 00010: saving model to /content/drive/My Drive/mnistTask/checkpoint-random-initialisation.hdf5\n",
            "Epoch 11/20\n",
            "20/20 [==============================] - 146s 7s/step - loss: 2.3116 - accuracy: 0.0769\n",
            "\n",
            "Epoch 00011: saving model to /content/drive/My Drive/mnistTask/checkpoint-random-initialisation.hdf5\n",
            "Epoch 12/20\n",
            "20/20 [==============================] - 141s 7s/step - loss: 2.3095 - accuracy: 0.1051\n",
            "\n",
            "Epoch 00012: saving model to /content/drive/My Drive/mnistTask/checkpoint-random-initialisation.hdf5\n",
            "Epoch 13/20\n",
            "20/20 [==============================] - 144s 7s/step - loss: 2.3069 - accuracy: 0.1048\n",
            "\n",
            "Epoch 00013: saving model to /content/drive/My Drive/mnistTask/checkpoint-random-initialisation.hdf5\n",
            "Epoch 14/20\n",
            "20/20 [==============================] - 137s 7s/step - loss: 2.3108 - accuracy: 0.0841\n",
            "\n",
            "Epoch 00014: saving model to /content/drive/My Drive/mnistTask/checkpoint-random-initialisation.hdf5\n",
            "Epoch 15/20\n",
            "20/20 [==============================] - 140s 7s/step - loss: 2.3008 - accuracy: 0.0981\n",
            "\n",
            "Epoch 00015: saving model to /content/drive/My Drive/mnistTask/checkpoint-random-initialisation.hdf5\n",
            "Epoch 16/20\n",
            "20/20 [==============================] - 134s 7s/step - loss: 2.3061 - accuracy: 0.1057\n",
            "\n",
            "Epoch 00016: saving model to /content/drive/My Drive/mnistTask/checkpoint-random-initialisation.hdf5\n",
            "Epoch 17/20\n",
            "20/20 [==============================] - 138s 7s/step - loss: 2.3063 - accuracy: 0.0991\n",
            "\n",
            "Epoch 00017: saving model to /content/drive/My Drive/mnistTask/checkpoint-random-initialisation.hdf5\n",
            "Epoch 18/20\n",
            "20/20 [==============================] - 139s 7s/step - loss: 2.3055 - accuracy: 0.0974\n",
            "\n",
            "Epoch 00018: saving model to /content/drive/My Drive/mnistTask/checkpoint-random-initialisation.hdf5\n",
            "Epoch 19/20\n",
            "20/20 [==============================] - 139s 7s/step - loss: 2.3033 - accuracy: 0.1134\n",
            "\n",
            "Epoch 00019: saving model to /content/drive/My Drive/mnistTask/checkpoint-random-initialisation.hdf5\n",
            "Epoch 20/20\n",
            "20/20 [==============================] - 131s 7s/step - loss: 2.3052 - accuracy: 0.1062\n",
            "\n",
            "Epoch 00020: saving model to /content/drive/My Drive/mnistTask/checkpoint-random-initialisation.hdf5\n"
          ],
          "name": "stdout"
        }
      ]
    },
    {
      "cell_type": "markdown",
      "metadata": {
        "id": "1qBZBJqkNpHB"
      },
      "source": [
        "Accuracy after 20 epochs - 0.1062"
      ]
    },
    {
      "cell_type": "markdown",
      "metadata": {
        "id": "PfjpFqp6CUng"
      },
      "source": [
        "# ***Testing the model on mnist test set***"
      ]
    },
    {
      "cell_type": "markdown",
      "metadata": {
        "id": "Ndb4Ag1eCaUH"
      },
      "source": [
        "Loading the libraries"
      ]
    },
    {
      "cell_type": "code",
      "metadata": {
        "id": "k-ZJ8Tb6Ca04"
      },
      "source": [
        "from __future__ import print_function\n",
        "import keras\n",
        "from keras.datasets import mnist\n",
        "from keras.models import Sequential\n",
        "from keras.layers import Dense, Dropout, Flatten, Conv2D, MaxPooling2D\n",
        "from keras import backend as k\n",
        "import matplotlib.pyplot as plt\n",
        "import numpy as np"
      ],
      "execution_count": 12,
      "outputs": []
    },
    {
      "cell_type": "markdown",
      "metadata": {
        "id": "f0Nnhp-RCfUo"
      },
      "source": [
        "Loading the randomly initialised model "
      ]
    },
    {
      "cell_type": "code",
      "metadata": {
        "id": "VfW24tRRCjaK"
      },
      "source": [
        "trained_model =load_model('/content/drive/My Drive/mnistTask/checkpoint-random-initialisation.hdf5')"
      ],
      "execution_count": 13,
      "outputs": []
    },
    {
      "cell_type": "markdown",
      "metadata": {
        "id": "vIITjjNFCsb_"
      },
      "source": [
        "Loading the mnist dataset and preprocessing it"
      ]
    },
    {
      "cell_type": "code",
      "metadata": {
        "colab": {
          "base_uri": "https://localhost:8080/"
        },
        "id": "Z22lPDkUDVbP",
        "outputId": "5f8458a7-7959-4d02-e7ca-48b40e523ba2"
      },
      "source": [
        "# loading the dataset\n",
        "(X_train, y_train), (X_test, y_test) = mnist.load_data()\n",
        "\n",
        "# building the input vector from the 28x28 pixels\n",
        "X_train = X_train.reshape(X_train.shape[0], 28, 28, 1)\n",
        "X_test = X_test.reshape(X_test.shape[0], 28, 28, 1)\n",
        "X_train = X_train.astype('float32')\n",
        "X_test = X_test.astype('float32')\n",
        "\n",
        "# normalizing the data to help with the training\n",
        "X_train /= 255\n",
        "X_test /= 255\n",
        "\n",
        "# one-hot encoding using keras' numpy-related utilities\n",
        "n_classes = 10\n",
        "print(\"Shape before one-hot encoding: \", y_train.shape)\n",
        "Y_train = np_utils.to_categorical(y_train, n_classes)\n",
        "Y_test = np_utils.to_categorical(y_test, n_classes)\n",
        "print(\"Shape after one-hot encoding: \", Y_train.shape)"
      ],
      "execution_count": 14,
      "outputs": [
        {
          "output_type": "stream",
          "text": [
            "Shape before one-hot encoding:  (60000,)\n",
            "Shape after one-hot encoding:  (60000, 10)\n"
          ],
          "name": "stdout"
        }
      ]
    },
    {
      "cell_type": "markdown",
      "metadata": {
        "id": "NPoKK6XeDgVw"
      },
      "source": [
        "Reshaping the data so that it can be used with the model"
      ]
    },
    {
      "cell_type": "code",
      "metadata": {
        "colab": {
          "base_uri": "https://localhost:8080/"
        },
        "id": "HXjyM7T3DdQ3",
        "outputId": "414172a0-42eb-42b9-c6f9-7b16bbe65c51"
      },
      "source": [
        "#input image size 28*28\n",
        "img_rows , img_cols = 28, 28\n",
        "#reshaping\n",
        "#this assumes our data format\n",
        "#For 3D data, \"channels_last\" assumes (conv_dim1, conv_dim2, conv_dim3, channels) while \n",
        "#\"channels_first\" assumes (channels, conv_dim1, conv_dim2, conv_dim3).\n",
        "if k.image_data_format() == 'channels_first':\n",
        "    X_train = X_train.reshape(X_train.shape[0], 1, img_rows, img_cols)\n",
        "    X_test = X_test.reshape(X_test.shape[0], 1, img_rows, img_cols)\n",
        "    input_shape = (1, img_rows, img_cols)\n",
        "else:\n",
        "    X_train = X_train.reshape(X_train.shape[0], img_rows, img_cols, 1)\n",
        "    X_test = X_test.reshape(X_test.shape[0], img_rows, img_cols, 1)\n",
        "    input_shape = (img_rows, img_cols, 1)\n",
        "#more reshaping\n",
        "X_train = X_train.astype('float32')\n",
        "X_test = X_test.astype('float32')\n",
        "X_train /= 255\n",
        "X_test /= 255\n",
        "print('X_train shape:', X_train.shape)\n",
        "print(X_train.shape[0], 'train samples')\n",
        "print(X_test.shape[0], 'test samples')"
      ],
      "execution_count": 15,
      "outputs": [
        {
          "output_type": "stream",
          "text": [
            "X_train shape: (60000, 28, 28, 1)\n",
            "60000 train samples\n",
            "10000 test samples\n"
          ],
          "name": "stdout"
        }
      ]
    },
    {
      "cell_type": "code",
      "metadata": {
        "colab": {
          "base_uri": "https://localhost:8080/"
        },
        "id": "0URcR2BVDoMm",
        "outputId": "99af548c-ab2c-4057-b10b-115f07ed9ab6"
      },
      "source": [
        "num_category = 10\n",
        "y_train = keras.utils.to_categorical(y_train, num_category)\n",
        "y_test = keras.utils.to_categorical(y_test, num_category)\n",
        "y_train[0]"
      ],
      "execution_count": 16,
      "outputs": [
        {
          "output_type": "execute_result",
          "data": {
            "text/plain": [
              "array([0., 0., 0., 0., 0., 1., 0., 0., 0., 0.], dtype=float32)"
            ]
          },
          "metadata": {
            "tags": []
          },
          "execution_count": 16
        }
      ]
    },
    {
      "cell_type": "markdown",
      "metadata": {
        "id": "d5iLiDT3Dr_W"
      },
      "source": [
        "Evaluating the accuracy on test set"
      ]
    },
    {
      "cell_type": "code",
      "metadata": {
        "colab": {
          "base_uri": "https://localhost:8080/"
        },
        "id": "EVxUSwmvDuI_",
        "outputId": "223c436c-9728-4ad5-eb27-9cf8d6b95be0"
      },
      "source": [
        "score = trained_model.evaluate(X_test, y_test, verbose=0)\n",
        "print('Test loss:', score[0]) #Test loss: 2.302675247192383\n",
        "print('Test accuracy:', score[1]) #Test accuracy: 0.09799999743700027"
      ],
      "execution_count": 17,
      "outputs": [
        {
          "output_type": "stream",
          "text": [
            "Test loss: 2.302675247192383\n",
            "Test accuracy: 0.09799999743700027\n"
          ],
          "name": "stdout"
        }
      ]
    }
  ]
}