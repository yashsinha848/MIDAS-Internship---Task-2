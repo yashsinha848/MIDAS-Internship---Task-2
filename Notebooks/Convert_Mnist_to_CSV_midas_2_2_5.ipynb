{
  "nbformat": 4,
  "nbformat_minor": 0,
  "metadata": {
    "colab": {
      "name": "Convert-Mnist to CSV midas-2-2.5.ipynb",
      "provenance": []
    },
    "kernelspec": {
      "name": "python3",
      "display_name": "Python 3"
    },
    "language_info": {
      "name": "python"
    }
  },
  "cells": [
    {
      "cell_type": "code",
      "metadata": {
        "colab": {
          "base_uri": "https://localhost:8080/"
        },
        "id": "BKNKWmNxYWpY",
        "outputId": "ffc9dc8d-6d35-4a5c-8f1a-26a52a09ff9f"
      },
      "source": [
        "from google.colab import drive\n",
        "drive.mount('/content/drive')"
      ],
      "execution_count": 1,
      "outputs": [
        {
          "output_type": "stream",
          "text": [
            "Mounted at /content/drive\n"
          ],
          "name": "stdout"
        }
      ]
    },
    {
      "cell_type": "markdown",
      "metadata": {
        "id": "hu2F2dv7ZweQ"
      },
      "source": [
        "Defining the function to convert mnist dataset from idx format to csv format"
      ]
    },
    {
      "cell_type": "code",
      "metadata": {
        "id": "8iqk-u-XXFZm"
      },
      "source": [
        "def convert(imgf, labelf, outf, n):\n",
        "    f = open(imgf, \"rb\")\n",
        "    o = open(outf, \"w\")\n",
        "    l = open(labelf, \"rb\")\n",
        "\n",
        "    f.read(16)\n",
        "    l.read(8)\n",
        "    images = []\n",
        "\n",
        "    for i in range(n):\n",
        "        image = [ord(l.read(1))]\n",
        "        for j in range(28 * 28):\n",
        "            image.append(ord(f.read(1)))\n",
        "        images.append(image)\n",
        "\n",
        "    for image in images:\n",
        "        o.write(\",\".join(str(pix) for pix in image) + \"\\n\")\n",
        "    f.close()\n",
        "    o.close()\n",
        "    l.close()\n",
        "\n",
        "\n"
      ],
      "execution_count": 2,
      "outputs": []
    },
    {
      "cell_type": "markdown",
      "metadata": {
        "id": "iS0ln7KJZ6iD"
      },
      "source": [
        "Converting the idx format files and saving them as CSV files on google drive."
      ]
    },
    {
      "cell_type": "code",
      "metadata": {
        "id": "JIvymVLuYSfg"
      },
      "source": [
        "convert(\"/content/drive/My Drive/mnist-idx/train-images.idx3-ubyte\", \"/content/drive/My Drive/mnist-idx/train-labels.idx1-ubyte\",\n",
        "        \"/content/drive/My Drive/mnist-idx/mnist_train-1.csv\", 60000)\n",
        "convert(\"/content/drive/My Drive/mnist-idx/t10k-images.idx3-ubyte\",\"/content/drive/My Drive/mnist-idx/t10k-labels.idx1-ubyte\",\n",
        "        \"/content/drive/My Drive/mnist-idx/mnist_test-1.csv\", 10000)"
      ],
      "execution_count": 3,
      "outputs": []
    }
  ]
}