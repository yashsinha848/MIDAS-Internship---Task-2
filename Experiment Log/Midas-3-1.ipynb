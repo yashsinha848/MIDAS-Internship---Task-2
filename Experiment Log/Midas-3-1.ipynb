{
 "cells": [
  {
   "cell_type": "markdown",
   "id": "b0de79cf",
   "metadata": {},
   "source": [
    "Used the activation 9 layer of the pretrained model but it had less accuracy then the present model"
   ]
  },
  {
   "cell_type": "code",
   "execution_count": null,
   "id": "2aa67711",
   "metadata": {},
   "outputs": [],
   "source": [
    "pre_trained_model =load_model('/content/drive/My Drive/small_train/checkpoint_accuracy281.hdf5')\n",
    "pre_trained_model.trainable = False\n",
    "#print(pre_trained_model.summary())\n",
    "last_layer = pre_trained_model.get_layer('activation_9')\n",
    "print('last layer output shape: ', last_layer.output_shape)\n",
    "last_output = last_layer.output"
   ]
  }
 ],
 "metadata": {
  "kernelspec": {
   "display_name": "Python 3",
   "language": "python",
   "name": "python3"
  },
  "language_info": {
   "codemirror_mode": {
    "name": "ipython",
    "version": 3
   },
   "file_extension": ".py",
   "mimetype": "text/x-python",
   "name": "python",
   "nbconvert_exporter": "python",
   "pygments_lexer": "ipython3",
   "version": "3.8.0"
  }
 },
 "nbformat": 4,
 "nbformat_minor": 5
}
