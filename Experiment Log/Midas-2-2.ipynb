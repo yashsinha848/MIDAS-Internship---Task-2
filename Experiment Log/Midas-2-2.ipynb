{
 "cells": [
  {
   "cell_type": "markdown",
   "id": "71adbfd7",
   "metadata": {},
   "source": [
    "Tried the following code but got reshape error later changed 1 to 0 on 2,4,8,10 lines"
   ]
  },
  {
   "cell_type": "code",
   "execution_count": null,
   "id": "thousand-opening",
   "metadata": {},
   "outputs": [],
   "source": [
    "for index, row in x_train.iterrows():\n",
    "    train_images_split.append(row.values[1:].reshape((28, 28)))\n",
    "    train_labels_split.append(row.iloc[0])\n",
    "    train_images_full.append(row.values[1:].reshape((28, 28)))\n",
    "    train_labels_full.append(row.iloc[0])\n",
    "\n",
    "for index, row in x_validation.iterrows():\n",
    "    validation_images.append(row.values[1:].reshape((28, 28)))\n",
    "    validation_labels.append(row.iloc[0])\n",
    "    train_images_full.append(row.values[1:].reshape((28, 28)))\n",
    "    train_labels_full.append(row.iloc[0])\n",
    "\n",
    "for index, row in test.iterrows():\n",
    "    test_images.append(row.iloc[1:].values.reshape((28, 28)))"
   ]
  }
 ],
 "metadata": {
  "kernelspec": {
   "display_name": "Python 3",
   "language": "python",
   "name": "python3"
  },
  "language_info": {
   "codemirror_mode": {
    "name": "ipython",
    "version": 3
   },
   "file_extension": ".py",
   "mimetype": "text/x-python",
   "name": "python",
   "nbconvert_exporter": "python",
   "pygments_lexer": "ipython3",
   "version": "3.8.0"
  }
 },
 "nbformat": 4,
 "nbformat_minor": 5
}
